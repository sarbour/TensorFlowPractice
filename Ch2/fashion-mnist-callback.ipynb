{
 "cells": [
  {
   "cell_type": "code",
   "execution_count": 1,
   "metadata": {},
   "outputs": [],
   "source": [
    "import tensorflow as tf\n",
    "\n",
    "class myCallback(tf.keras.callbacks.Callback):\n",
    "  def on_epoch_end(self, epoch, logs={}):\n",
    "    if(logs.get('accuracy')>0.95):\n",
    "      print(\"\\nReached 95% accuracy so cancelling training!\")\n",
    "      self.model.stop_training = True\n",
    "\n",
    "callbacks = myCallback()\n",
    "mnist = tf.keras.datasets.fashion_mnist\n",
    "(training_images, training_labels), (test_images, test_labels) = mnist.load_data()\n",
    "training_images=training_images/255.0\n",
    "test_images=test_images/255.0"
   ]
  },
  {
   "cell_type": "code",
   "execution_count": 2,
   "metadata": {},
   "outputs": [
    {
     "name": "stdout",
     "output_type": "stream",
     "text": [
      "Epoch 1/50\n",
      "1875/1875 [==============================] - 2s 751us/step - loss: 0.4930 - accuracy: 0.8275\n",
      "Epoch 2/50\n",
      "1875/1875 [==============================] - 1s 743us/step - loss: 0.3726 - accuracy: 0.8643\n",
      "Epoch 3/50\n",
      "1875/1875 [==============================] - 1s 764us/step - loss: 0.3343 - accuracy: 0.8778\n",
      "Epoch 4/50\n",
      "1875/1875 [==============================] - 2s 809us/step - loss: 0.3105 - accuracy: 0.8860\n",
      "Epoch 5/50\n",
      "1875/1875 [==============================] - 1s 735us/step - loss: 0.2925 - accuracy: 0.8922\n",
      "Epoch 6/50\n",
      "1875/1875 [==============================] - 1s 743us/step - loss: 0.2794 - accuracy: 0.8963\n",
      "Epoch 7/50\n",
      "1875/1875 [==============================] - 1s 743us/step - loss: 0.2653 - accuracy: 0.9021\n",
      "Epoch 8/50\n",
      "1875/1875 [==============================] - 1s 745us/step - loss: 0.2547 - accuracy: 0.9046\n",
      "Epoch 9/50\n",
      "1875/1875 [==============================] - 1s 742us/step - loss: 0.2479 - accuracy: 0.9087\n",
      "Epoch 10/50\n",
      "1875/1875 [==============================] - 2s 845us/step - loss: 0.2357 - accuracy: 0.9113\n",
      "Epoch 11/50\n",
      "1875/1875 [==============================] - 1s 756us/step - loss: 0.2283 - accuracy: 0.9152\n",
      "Epoch 12/50\n",
      "1875/1875 [==============================] - 1s 745us/step - loss: 0.2190 - accuracy: 0.9166\n",
      "Epoch 13/50\n",
      "1875/1875 [==============================] - 1s 747us/step - loss: 0.2122 - accuracy: 0.9205\n",
      "Epoch 14/50\n",
      "1875/1875 [==============================] - 1s 741us/step - loss: 0.2091 - accuracy: 0.9221\n",
      "Epoch 15/50\n",
      "1875/1875 [==============================] - 1s 775us/step - loss: 0.2001 - accuracy: 0.9244\n",
      "Epoch 16/50\n",
      "1875/1875 [==============================] - 2s 820us/step - loss: 0.1966 - accuracy: 0.9264\n",
      "Epoch 17/50\n",
      "1875/1875 [==============================] - 1s 742us/step - loss: 0.1901 - accuracy: 0.9286\n",
      "Epoch 18/50\n",
      "1875/1875 [==============================] - 1s 756us/step - loss: 0.1875 - accuracy: 0.9294\n",
      "Epoch 19/50\n",
      "1875/1875 [==============================] - 1s 741us/step - loss: 0.1804 - accuracy: 0.9314\n",
      "Epoch 20/50\n",
      "1875/1875 [==============================] - 1s 758us/step - loss: 0.1773 - accuracy: 0.9327\n",
      "Epoch 21/50\n",
      "1875/1875 [==============================] - 1s 737us/step - loss: 0.1713 - accuracy: 0.9352\n",
      "Epoch 22/50\n",
      "1875/1875 [==============================] - 1s 758us/step - loss: 0.1652 - accuracy: 0.9376\n",
      "Epoch 23/50\n",
      "1875/1875 [==============================] - 1s 749us/step - loss: 0.1646 - accuracy: 0.9377\n",
      "Epoch 24/50\n",
      "1875/1875 [==============================] - 1s 748us/step - loss: 0.1580 - accuracy: 0.9409\n",
      "Epoch 25/50\n",
      "1875/1875 [==============================] - 1s 730us/step - loss: 0.1569 - accuracy: 0.9410\n",
      "Epoch 26/50\n",
      "1875/1875 [==============================] - 1s 748us/step - loss: 0.1497 - accuracy: 0.9439\n",
      "Epoch 27/50\n",
      "1875/1875 [==============================] - 1s 733us/step - loss: 0.1485 - accuracy: 0.9444\n",
      "Epoch 28/50\n",
      "1875/1875 [==============================] - 1s 751us/step - loss: 0.1465 - accuracy: 0.9451\n",
      "Epoch 29/50\n",
      "1875/1875 [==============================] - 1s 738us/step - loss: 0.1394 - accuracy: 0.9484\n",
      "Epoch 30/50\n",
      "1875/1875 [==============================] - 1s 750us/step - loss: 0.1381 - accuracy: 0.9490\n",
      "Epoch 31/50\n",
      "1875/1875 [==============================] - 1s 737us/step - loss: 0.1345 - accuracy: 0.9495\n",
      "Epoch 32/50\n",
      "1875/1875 [==============================] - 1s 748us/step - loss: 0.1328 - accuracy: 0.9496\n",
      "Epoch 33/50\n",
      "1850/1875 [============================>.] - ETA: 0s - loss: 0.1286 - accuracy: 0.9511\n",
      "Reached 95% accuracy so cancelling training!\n",
      "1875/1875 [==============================] - 1s 735us/step - loss: 0.1287 - accuracy: 0.9510\n"
     ]
    },
    {
     "data": {
      "text/plain": [
       "<keras.src.callbacks.History at 0x3452c6090>"
      ]
     },
     "execution_count": 2,
     "metadata": {},
     "output_type": "execute_result"
    }
   ],
   "source": [
    "model = tf.keras.models.Sequential([\n",
    "  tf.keras.layers.Flatten(),\n",
    "  tf.keras.layers.Dense(128, activation=tf.nn.relu),\n",
    "  tf.keras.layers.Dense(10, activation=tf.nn.softmax)\n",
    "])\n",
    "model.compile(optimizer='adam', loss='sparse_categorical_crossentropy', metrics=['accuracy'])\n",
    "model.fit(training_images, training_labels, epochs=50, callbacks=[callbacks])"
   ]
  },
  {
   "cell_type": "code",
   "execution_count": 3,
   "metadata": {},
   "outputs": [
    {
     "name": "stdout",
     "output_type": "stream",
     "text": [
      "313/313 [==============================] - 0s 500us/step - loss: 0.4292 - accuracy: 0.8900\n",
      "313/313 [==============================] - 0s 468us/step\n",
      "[1.4572011e-21 1.9531418e-16 8.5467218e-16 3.7329506e-21 3.6172102e-17\n",
      " 1.8835998e-08 1.6836740e-17 2.4335401e-05 4.2436107e-14 9.9997568e-01]\n",
      "9\n"
     ]
    }
   ],
   "source": [
    "model.evaluate(test_images, test_labels)\n",
    "\n",
    "classifications = model.predict(test_images)\n",
    "\n",
    "print(classifications[0])\n",
    "print(test_labels[0])"
   ]
  }
 ],
 "metadata": {
  "kernelspec": {
   "display_name": "Python 3",
   "language": "python",
   "name": "python3"
  },
  "language_info": {
   "codemirror_mode": {
    "name": "ipython",
    "version": 3
   },
   "file_extension": ".py",
   "mimetype": "text/x-python",
   "name": "python",
   "nbconvert_exporter": "python",
   "pygments_lexer": "ipython3",
   "version": "3.11.4"
  }
 },
 "nbformat": 4,
 "nbformat_minor": 2
}
